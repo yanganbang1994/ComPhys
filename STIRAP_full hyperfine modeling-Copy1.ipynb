{
 "cells": [
  {
   "cell_type": "code",
   "execution_count": 4,
   "id": "ef4b6bb0",
   "metadata": {},
   "outputs": [],
   "source": [
    "#import libraries\n",
    "import numpy as np\n",
    "import pandas as pd\n",
    "from qutip import *\n",
    "import matplotlib.pyplot as plt"
   ]
  },
  {
   "cell_type": "code",
   "execution_count": 5,
   "id": "d28443bf",
   "metadata": {},
   "outputs": [
    {
     "name": "stdout",
     "output_type": "stream",
     "text": [
      "Quantum object: dims = [[8], [8]], shape = (8, 8), type = oper, isherm = True\n",
      "Qobj data =\n",
      "[[0. 1. 1. 1. 1. 0. 0. 0.]\n",
      " [1. 0. 0. 0. 0. 1. 0. 0.]\n",
      " [1. 0. 0. 0. 0. 1. 1. 0.]\n",
      " [1. 0. 0. 0. 0. 1. 1. 0.]\n",
      " [1. 0. 0. 0. 0. 1. 1. 0.]\n",
      " [0. 1. 1. 1. 1. 0. 0. 0.]\n",
      " [0. 0. 1. 1. 1. 0. 0. 0.]\n",
      " [0. 0. 0. 0. 0. 0. 0. 0.]]\n"
     ]
    }
   ],
   "source": [
    "#definition of basis\n",
    "\n",
    "FBstate = basis(8,0)\n",
    "Excited_1 = basis(8,1)\n",
    "Excited_2 = basis(8,2)\n",
    "Excited_3 = basis(8,3)\n",
    "Excited_4 = basis(8,4)\n",
    "GrState_1 = basis(8,5)\n",
    "GrState_2 = basis(8,6)\n",
    "dumpstate = basis(8,7)\n",
    "\n",
    "psi0 = FBstate\n",
    "\n",
    "H1 = FBstate*Excited_1.dag() + Excited_1*FBstate.dag()\n",
    "H2 = FBstate*Excited_2.dag() + Excited_2*FBstate.dag()\n",
    "H3 = FBstate*Excited_3.dag() + Excited_3*FBstate.dag()\n",
    "H4 = FBstate*Excited_4.dag() + Excited_4*FBstate.dag()\n",
    "H5 = Excited_1*GrState_1.dag()+GrState_1*Excited_1.dag()\n",
    "H6 = Excited_2*GrState_1.dag()+GrState_1*Excited_2.dag()\n",
    "H7 = Excited_3*GrState_1.dag()+GrState_1*Excited_3.dag()\n",
    "H8 = Excited_4*GrState_1.dag()+GrState_1*Excited_4.dag()\n",
    "H9 = Excited_2*GrState_2.dag()+GrState_2*Excited_2.dag()\n",
    "H10 = Excited_3*GrState_2.dag()+GrState_2*Excited_3.dag()\n",
    "H11 = Excited_4*GrState_2.dag()+GrState_2*Excited_4.dag()\n",
    "print(H1+H2+H3+H4+H5+H6+H7+H8+H9+H10+H11)\n"
   ]
  },
  {
   "cell_type": "code",
   "execution_count": 18,
   "id": "13d80137",
   "metadata": {},
   "outputs": [],
   "source": [
    "#define parameters, scattering rate, polarization impurity, Rabi frequencies, pulse delay, pulse duration\n",
    "Gamma = 2*np.pi*6\n",
    "\n",
    "eta1 = 0.1\n",
    "eta2 = 0.1\n",
    "OmegaP = 2*np.pi*4.3\n",
    "OmegaS = 2*np.pi*4.3\n",
    "OmegaFE1 = OmegaP\n",
    "OmegaFE2 = eta1*0.41*OmegaP\n",
    "OmegaFE3 = eta1*0.17*OmegaP\n",
    "OmegaFE4 = eta1*0.9*OmegaP\n",
    "OmegaE1G0 = OmegaS\n",
    "OmegaE2G0 = eta2*0.41*OmegaS\n",
    "OmegaE2G1 = 1*0.64*OmegaS\n",
    "OmegaE3G0 = eta2*0.17*OmegaS\n",
    "OmegaE3G1 =1* 0.75*OmegaS\n",
    "OmegaE4G0 = eta2*0.9*OmegaS\n",
    "OmegaE4G1 =1* 0.15*OmegaS\n",
    "D = 0\n",
    "T = 16"
   ]
  },
  {
   "cell_type": "code",
   "execution_count": 19,
   "id": "963089a7",
   "metadata": {},
   "outputs": [],
   "source": [
    "# define interaction hamiltonian for 1 STIRAP cycle\n",
    "def H0(Delta1,delta1):\n",
    "    HH = 2*np.pi*Delta1*Excited_1*Excited_1.dag()+(2*np.pi*Delta1-2*np.pi*0.62)*Excited_2*Excited_2.dag()+(2*np.pi*Delta1-2*np.pi*0.08)*Excited_3*Excited_3.dag() +(2*np.pi*Delta1+2*np.pi*0.13)*Excited_4*Excited_4.dag()+ 2*np.pi*delta1*GrState_1*GrState_1.dag()+(2*np.pi*delta1+2*np.pi*0.106)*GrState_2*GrState_2.dag()\n",
    "    return HH\n",
    "\n",
    "def H1_coeff(t,args):\n",
    "    if t<T/2:\n",
    "        HH = 0.5*OmegaFE1*np.sqrt((1-np.cos(2*np.pi*t/T))/2)\n",
    "    else:\n",
    "        HH = 0.5*OmegaFE1*np.sqrt((1-np.cos(2*np.pi*(t-D)/T))/2)\n",
    "    return HH\n",
    "\n",
    "def H2_coeff(t,args):\n",
    "    if t<T/2:\n",
    "        HH = 0.5*OmegaFE2*np.sqrt((1-np.cos(2*np.pi*t/T))/2)\n",
    "    else:\n",
    "        HH = 0.5*OmegaFE2*np.sqrt((1-np.cos(2*np.pi*(t-D)/T))/2)\n",
    "    return HH\n",
    "\n",
    "def H3_coeff(t,args):\n",
    "    if t<T/2:\n",
    "        HH = 0.5*OmegaFE3*np.sqrt((1-np.cos(2*np.pi*t/T))/2)\n",
    "    else:\n",
    "        HH = 0.5*OmegaFE3*np.sqrt((1-np.cos(2*np.pi*(t-D)/T))/2)\n",
    "    return HH\n",
    "\n",
    "def H4_coeff(t,args):\n",
    "    if t<T/2:\n",
    "        HH = 0.5*OmegaFE4*np.sqrt((1-np.cos(2*np.pi*t/T))/2)\n",
    "    else:\n",
    "        HH = 0.5*OmegaFE4*np.sqrt((1-np.cos(2*np.pi*(t-D)/T))/2)\n",
    "    return HH\n",
    "def H5_coeff(t,args):\n",
    "    if t<T/2:\n",
    "        HH = 0.5*OmegaE1G0*np.sqrt((1+np.cos(2*np.pi*t/T))/2)\n",
    "    else:\n",
    "        HH = 0.5*OmegaE1G0*np.sqrt((1+np.cos(2*np.pi*(t-D)/T))/2)\n",
    "    return HH\n",
    "def H6_coeff(t,args):\n",
    "    if t<T/2:\n",
    "        HH = 0.5*OmegaE2G0*np.sqrt((1+np.cos(2*np.pi*t/T))/2)\n",
    "    else:\n",
    "        HH = 0.5*OmegaE2G0*np.sqrt((1+np.cos(2*np.pi*(t-D)/T))/2)\n",
    "    return HH\n",
    "def H7_coeff(t,args):\n",
    "    if t<T/2:\n",
    "        HH = 0.5*OmegaE3G0*np.sqrt((1+np.cos(2*np.pi*t/T))/2)\n",
    "    else:\n",
    "        HH = 0.5*OmegaE3G0*np.sqrt((1+np.cos(2*np.pi*(t-D)/T))/2)\n",
    "    return HH\n",
    "def H8_coeff(t,args):\n",
    "    if t<T/2:\n",
    "        HH = 0.5*OmegaE4G0*np.sqrt((1+np.cos(2*np.pi*t/T))/2)\n",
    "    else:\n",
    "        HH = 0.5*OmegaE4G0*np.sqrt((1+np.cos(2*np.pi*(t-D)/T))/2)\n",
    "    return HH\n",
    "\n",
    "def H9_coeff(t,args):\n",
    "    if t<T/2:\n",
    "        HH = 0.5*OmegaE2G1*np.sqrt((1+np.cos(2*np.pi*t/T))/2)\n",
    "    else:\n",
    "        HH = 0.5*OmegaE2G1*np.sqrt((1+np.cos(2*np.pi*(t-D)/T))/2)\n",
    "    return HH\n",
    "def H10_coeff(t,args):\n",
    "    if t<T/2:\n",
    "        HH = 0.5*OmegaE3G1*np.sqrt((1+np.cos(2*np.pi*t/T))/2)\n",
    "    else:\n",
    "        HH = 0.5*OmegaE3G1*np.sqrt((1+np.cos(2*np.pi*(t-D)/T))/2)\n",
    "    return HH\n",
    "def H11_coeff(t,args):\n",
    "    if t<T/2:\n",
    "        HH = 0.5*OmegaE4G1*np.sqrt((1+np.cos(2*np.pi*t/T))/2)\n",
    "    else:\n",
    "        HH = 0.5*OmegaE4G1*np.sqrt((1+np.cos(2*np.pi*(t-D)/T))/2)\n",
    "    return HH"
   ]
  },
  {
   "cell_type": "code",
   "execution_count": 20,
   "id": "40b7661d",
   "metadata": {},
   "outputs": [],
   "source": [
    "# total hamiltonian\n",
    "H = [H0(0,0),[H1,H1_coeff],[H2,H2_coeff],[H3,H3_coeff],[H4,H4_coeff],[H5,H5_coeff],[H6,H6_coeff],[H7,H7_coeff],[H8,H8_coeff],[H9,H9_coeff],[H10,H10_coeff],[H11,H11_coeff]]"
   ]
  },
  {
   "cell_type": "code",
   "execution_count": 21,
   "id": "a2816723",
   "metadata": {},
   "outputs": [],
   "source": [
    "#generate time steps\n",
    "t = np.linspace(0,T+D,100)"
   ]
  },
  {
   "cell_type": "code",
   "execution_count": 22,
   "id": "7792c738",
   "metadata": {},
   "outputs": [],
   "source": [
    "#calculated using lindblad solver\n",
    "output = mesolve(H,psi0,t,[np.sqrt(Gamma)*dumpstate*Excited_1.dag(),np.sqrt(Gamma)*dumpstate*Excited_2.dag(),np.sqrt(Gamma)*dumpstate*Excited_3.dag(),np.sqrt(Gamma)*dumpstate*Excited_4.dag()],[FBstate*FBstate.dag(),GrState_1*GrState_1.dag(),GrState_2*GrState_2.dag(),dumpstate*dumpstate.dag()])"
   ]
  },
  {
   "cell_type": "code",
   "execution_count": 23,
   "id": "c8ebcf70",
   "metadata": {
    "scrolled": false
   },
   "outputs": [
    {
     "data": {
      "image/png": "[encoded data removed]",
      "text/plain": [
       "<Figure size 640x480 with 1 Axes>"
      ]
     },
     "metadata": {},
     "output_type": "display_data"
    },
    {
     "data": {
      "text/plain": [
       "0.8822237377223531"
      ]
     },
     "execution_count": 23,
     "metadata": {},
     "output_type": "execute_result"
    }
   ],
   "source": [
    "fig, ax = plt.subplots()\n",
    "ax.plot(t,output.expect[0])\n",
    "ax.plot(t,output.expect[1])\n",
    "ax.plot(t,output.expect[2])\n",
    "ax.set_xlabel('Time') \n",
    "ax.set_ylabel('Expectation values') \n",
    "plt.show() \n",
    "output.expect[0][99]\n"
   ]
  },
  {
   "cell_type": "code",
   "execution_count": 24,
   "id": "2a6a7ae6",
   "metadata": {},
   "outputs": [],
   "source": [
    "#calculate one photon curve\n",
    "def SinglePhotonDetuning(d1,d2):\n",
    "    t = np.linspace(0,T+D,100)\n",
    "    p = []\n",
    "    pp=[]\n",
    "    DD = []\n",
    "    for d in np.linspace(d1,d2,50):\n",
    "        H = [H0(d,0.0),[H1,H1_coeff],[H2,H2_coeff],[H3,H3_coeff],[H4,H4_coeff],[H5,H5_coeff],[H6,H6_coeff],[H7,H7_coeff],[H8,H8_coeff],[H9,H9_coeff],[H10,H10_coeff],[H11,H11_coeff]]\n",
    "        output = mesolve(H,psi0,t,[np.sqrt(Gamma)*dumpstate*Excited_1.dag(),np.sqrt(Gamma)*dumpstate*Excited_2.dag(),np.sqrt(Gamma)*dumpstate*Excited_3.dag(),np.sqrt(Gamma)*dumpstate*Excited_4.dag()],[GrState_1*GrState_1.dag(),FBstate*FBstate.dag(),GrState_2*GrState_2.dag()])\n",
    "        p.append(output.expect[0][49]*100)\n",
    "        pp.append(output.expect[2][49]*100)\n",
    "        DD.append(d)\n",
    "    fig, ax = plt.subplots()\n",
    "    ax.scatter(DD,p,marker = \"o\")\n",
    "    ax.scatter(DD,pp,marker = \"o\")\n",
    "    ax.set_xlabel('Detuning') \n",
    "    ax.set_ylabel('Expectation values') \n",
    "    plt.show() \n",
    "    data = {'Detuning' : DD,'Ground State Population':p, 'Ground State 2 Population':pp}\n",
    "    df = pd.DataFrame(data)\n",
    "    df.to_csv(r'C:\\Users\\abyan\\Documents\\singlephotondetuning_eta_ratio1to3.csv',index = False,header = True)\n",
    "    return DD,p"
   ]
  },
  {
   "cell_type": "code",
   "execution_count": 25,
   "id": "62096791",
   "metadata": {},
   "outputs": [
    {
     "data": {
      "image/png": "[encoded data removed]",
      "text/plain": [
       "<Figure size 640x480 with 1 Axes>"
      ]
     },
     "metadata": {},
     "output_type": "display_data"
    },
    {
     "data": {
      "text/plain": [
       "([-3.0,\n",
       "  -2.7142857142857144,\n",
       "  -2.428571428571429,\n",
       "  -2.142857142857143,\n",
       "  -1.8571428571428572,\n",
       "  -1.5714285714285716,\n",
       "  -1.2857142857142858,\n",
       "  -1.0,\n",
       "  -0.7142857142857144,\n",
       "  -0.4285714285714288,\n",
       "  -0.14285714285714324,\n",
       "  0.1428571428571428,\n",
       "  0.4285714285714284,\n",
       "  0.714285714285714,\n",
       "  1.0,\n",
       "  1.2857142857142856,\n",
       "  1.5714285714285712,\n",
       "  1.8571428571428568,\n",
       "  2.1428571428571423,\n",
       "  2.428571428571428,\n",
       "  2.7142857142857135,\n",
       "  3.0,\n",
       "  3.2857142857142856,\n",
       "  3.571428571428571,\n",
       "  3.8571428571428568,\n",
       "  4.142857142857142,\n",
       "  4.428571428571428,\n",
       "  4.7142857142857135,\n",
       "  5.0,\n",
       "  5.285714285714285,\n",
       "  5.571428571428571,\n",
       "  5.857142857142856,\n",
       "  6.142857142857142,\n",
       "  6.428571428571429,\n",
       "  6.7142857142857135,\n",
       "  7.0,\n",
       "  7.285714285714285,\n",
       "  7.571428571428571,\n",
       "  7.857142857142856,\n",
       "  8.142857142857142,\n",
       "  8.428571428571427,\n",
       "  8.714285714285714,\n",
       "  9.0,\n",
       "  9.285714285714285,\n",
       "  9.571428571428571,\n",
       "  9.857142857142856,\n",
       "  10.142857142857142,\n",
       "  10.428571428571427,\n",
       "  10.714285714285714,\n",
       "  11.0],\n",
       " [93.81888438315444,\n",
       "  93.83119870839562,\n",
       "  93.84225625181777,\n",
       "  93.85205529028275,\n",
       "  93.86059160465099,\n",
       "  93.86786774153393,\n",
       "  93.87387740154061,\n",
       "  93.87861760127028,\n",
       "  93.88209274292063,\n",
       "  93.88429357772692,\n",
       "  93.88522452719415,\n",
       "  93.88488309171929,\n",
       "  93.88327078363032,\n",
       "  93.88036806671641,\n",
       "  93.87619598176299,\n",
       "  93.87075778339066,\n",
       "  93.86404082530773,\n",
       "  93.85606205689294,\n",
       "  93.846793511616,\n",
       "  93.8362500382657,\n",
       "  93.82441985148029,\n",
       "  93.81133511600832,\n",
       "  93.79696785296095,\n",
       "  93.78133607423777,\n",
       "  93.76444890968413,\n",
       "  93.74626240750139,\n",
       "  93.72685660693183,\n",
       "  93.7061557367874,\n",
       "  93.68422556309261,\n",
       "  93.66102795455541,\n",
       "  93.63657853402671,\n",
       "  93.6108750906942,\n",
       "  93.58391266728074,\n",
       "  93.55568576756815,\n",
       "  93.52619470486997,\n",
       "  93.49545226818073,\n",
       "  93.46348377613282,\n",
       "  93.43031777585355,\n",
       "  93.3959687302183,\n",
       "  93.36042603790014,\n",
       "  93.3236621611037,\n",
       "  93.28566511314641,\n",
       "  93.24648333441915,\n",
       "  93.20625905604507,\n",
       "  93.165224748466,\n",
       "  93.12364986009784,\n",
       "  93.08174588767973,\n",
       "  93.03955612296343,\n",
       "  92.99686626870285,\n",
       "  92.95316764405362])"
      ]
     },
     "execution_count": 25,
     "metadata": {},
     "output_type": "execute_result"
    }
   ],
   "source": [
    "SinglePhotonDetuning(-3,11)"
   ]
  },
  {
   "cell_type": "code",
   "execution_count": null,
   "id": "f261e7a6",
   "metadata": {},
   "outputs": [],
   "source": []
  },
  {
   "cell_type": "code",
   "execution_count": null,
   "id": "b805c5c8",
   "metadata": {},
   "outputs": [],
   "source": []
  },
  {
   "cell_type": "code",
   "execution_count": null,
   "id": "9c3ed329",
   "metadata": {},
   "outputs": [],
   "source": []
  },
  {
   "cell_type": "code",
   "execution_count": null,
   "id": "6e873279",
   "metadata": {},
   "outputs": [],
   "source": []
  }
 ],
 "metadata": {
  "kernelspec": {
   "display_name": "Python 3 (ipykernel)",
   "language": "python",
   "name": "python3"
  },
  "language_info": {
   "codemirror_mode": {
    "name": "ipython",
    "version": 3
   },
   "file_extension": ".py",
   "mimetype": "text/x-python",
   "name": "python",
   "nbconvert_exporter": "python",
   "pygments_lexer": "ipython3",
   "version": "3.10.9"
  }
 },
 "nbformat": 4,
 "nbformat_minor": 5
}
